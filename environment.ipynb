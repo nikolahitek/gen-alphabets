{
 "cells": [
  {
   "cell_type": "markdown",
   "metadata": {},
   "source": [
    "# Boilerplate Environment"
   ]
  },
  {
   "cell_type": "markdown",
   "metadata": {},
   "source": [
    "## Imports"
   ]
  },
  {
   "cell_type": "code",
   "execution_count": 1,
   "metadata": {},
   "outputs": [],
   "source": [
    "import turtle as t"
   ]
  },
  {
   "cell_type": "markdown",
   "metadata": {},
   "source": [
    "## Turle Graphics"
   ]
  },
  {
   "cell_type": "code",
   "execution_count": 2,
   "metadata": {},
   "outputs": [],
   "source": [
    "def set_options(speed):\n",
    "    t.TurtleScreen._RUNNING = True\n",
    "    t.color('black', 'white')\n",
    "    t.hideturtle()\n",
    "    t.pensize(3)\n",
    "    t.speed(speed)\n",
    "\n",
    "def start(speed):\n",
    "    set_options(speed)\n",
    "    t.begin_fill()\n",
    "    \n",
    "def end():\n",
    "    t.end_fill()\n",
    "    t.done()\n",
    "    \n",
    "def save_graphic(label):\n",
    "    t.getscreen().getcanvas().postscript(file=str(label)+'.ps')"
   ]
  },
  {
   "cell_type": "markdown",
   "metadata": {},
   "source": [
    "## PL Code Segments Classes"
   ]
  },
  {
   "cell_type": "code",
   "execution_count": 3,
   "metadata": {},
   "outputs": [],
   "source": [
    "class RepeatSegment():\n",
    "    def __init__(self, count, body):\n",
    "        self.count = count\n",
    "        self.body = body    \n",
    "    def _exec(self):\n",
    "        repeat(self.count, self.body)\n",
    "    def _code(self):\n",
    "        self.code = 'repeat ' + str(self.count)+' (\\n'\n",
    "        for segment in self.body:\n",
    "            self.code += '   ' + segment._code()\n",
    "        self.code += ')\\n'\n",
    "        return self.code\n",
    "    def _modify(self, percent, inc):\n",
    "        count_modf = round(self.count/100 * percent)\n",
    "        if inc:\n",
    "            self.count += count_modf\n",
    "        else:\n",
    "            self.count -= count_modf\n",
    "        for segment in self.body:\n",
    "            segment._modify(percent, inc)\n",
    "\n",
    "class MoveSegment():\n",
    "    def __init__(self, steps):\n",
    "        self.steps = steps\n",
    "    def _exec(self):\n",
    "        move(self.steps)\n",
    "    def _code(self):\n",
    "        return 'move ' + str(self.steps) + '\\n'\n",
    "    def _modify(self, percent, inc):\n",
    "        steps_modf = round(self.steps/100 * percent)\n",
    "        if inc:\n",
    "            self.steps += steps_modf\n",
    "        else:\n",
    "            self.steps -= steps_modf\n",
    "            \n",
    "class TurnSegment():\n",
    "    def __init__(self, direction, angle):\n",
    "        self.direction = direction\n",
    "        self.angle = angle\n",
    "    def _exec(self):\n",
    "        turn(self.direction, self.angle)\n",
    "    def _code(self):\n",
    "        return 'turn ' + self.direction + ' ' + str(self.angle) + '\\n'\n",
    "    def _modify(self, percentage, inc):\n",
    "        self.angle = self.angle"
   ]
  },
  {
   "cell_type": "markdown",
   "metadata": {},
   "source": [
    "## PL Functions"
   ]
  },
  {
   "cell_type": "code",
   "execution_count": 4,
   "metadata": {},
   "outputs": [],
   "source": [
    "# move steps\n",
    "def move(steps):\n",
    "    t.forward(steps)\n",
    "\n",
    "# turn rt/lt angle\n",
    "def turn(direction, angle):\n",
    "    getattr(t, direction)(angle)\n",
    "\n",
    "# repeat n (body)\n",
    "def repeat(n, body):\n",
    "    for i in range(n):\n",
    "        for segment in body:\n",
    "            segment._exec()"
   ]
  },
  {
   "cell_type": "code",
   "execution_count": null,
   "metadata": {},
   "outputs": [],
   "source": []
  },
  {
   "cell_type": "code",
   "execution_count": 5,
   "metadata": {},
   "outputs": [
    {
     "ename": "SyntaxError",
     "evalue": "invalid syntax (<ipython-input-5-1c7175c7b008>, line 2)",
     "output_type": "error",
     "traceback": [
      "\u001b[1;36m  File \u001b[1;32m\"<ipython-input-5-1c7175c7b008>\"\u001b[1;36m, line \u001b[1;32m2\u001b[0m\n\u001b[1;33m    repeat 11 (\u001b[0m\n\u001b[1;37m            ^\u001b[0m\n\u001b[1;31mSyntaxError\u001b[0m\u001b[1;31m:\u001b[0m invalid syntax\n"
     ]
    }
   ],
   "source": []
  },
  {
   "cell_type": "code",
   "execution_count": null,
   "metadata": {},
   "outputs": [],
   "source": []
  }
 ],
 "metadata": {
  "kernelspec": {
   "display_name": "Python 3",
   "language": "python",
   "name": "python3"
  },
  "language_info": {
   "codemirror_mode": {
    "name": "ipython",
    "version": 3
   },
   "file_extension": ".py",
   "mimetype": "text/x-python",
   "name": "python",
   "nbconvert_exporter": "python",
   "pygments_lexer": "ipython3",
   "version": "3.6.7"
  }
 },
 "nbformat": 4,
 "nbformat_minor": 2
}
