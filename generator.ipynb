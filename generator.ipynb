{
 "cells": [
  {
   "cell_type": "markdown",
   "metadata": {},
   "source": [
    "# Alphabet Generator"
   ]
  },
  {
   "cell_type": "markdown",
   "metadata": {},
   "source": [
    "## Imports"
   ]
  },
  {
   "cell_type": "code",
   "execution_count": 1,
   "metadata": {},
   "outputs": [],
   "source": [
    "from ipynb.fs.defs.environment import *\n",
    "import random\n",
    "import os\n",
    "\n",
    "path=\"E:/Alphabets Project\"\n",
    "os.chdir(path)"
   ]
  },
  {
   "cell_type": "markdown",
   "metadata": {},
   "source": [
    "## Random Atrributes Generators"
   ]
  },
  {
   "cell_type": "code",
   "execution_count": 2,
   "metadata": {},
   "outputs": [],
   "source": [
    "def steps_(curve=False):\n",
    "    if curve:\n",
    "        return random.randint(5, 15)\n",
    "    return random.randint(25, 125)\n",
    "        \n",
    "def angle_(curve=False):\n",
    "    if curve:\n",
    "        return random.randint(3, 30)\n",
    "    return random.randint(30, 150)\n",
    "\n",
    "def num_repeats_():\n",
    "    return random.randint(3, 12)\n",
    "\n",
    "def turn_direction_():\n",
    "    directions = ['rt', 'lt']\n",
    "    return random.choice(directions)\n",
    "\n",
    "def next_stroke():\n",
    "    possible = ['line', 'curve']\n",
    "    return random.choice(possible)\n",
    "    \n",
    "def to_turn():\n",
    "    options = [True, False]\n",
    "    return random.choice(options)"
   ]
  },
  {
   "cell_type": "markdown",
   "metadata": {},
   "source": [
    "## Character Generator"
   ]
  },
  {
   "cell_type": "markdown",
   "metadata": {},
   "source": [
    "### Code Generators"
   ]
  },
  {
   "cell_type": "code",
   "execution_count": 3,
   "metadata": {},
   "outputs": [],
   "source": [
    "code = ''\n",
    "\n",
    "def gen_turn_code(d, a):\n",
    "    global code\n",
    "    code += 'turn ' + d + ' ' + str(a) + '\\n'\n",
    "\n",
    "def gen_move_code(s):\n",
    "    global code\n",
    "    code += 'move ' + str(s) + '\\n'\n",
    "    \n",
    "def gen_curve_code(n, d, a, s):\n",
    "    global code\n",
    "    code += 'repeat ' + str(n)+' (\\n'\n",
    "    code += '   turn ' + d + ' ' + str(a) + '\\n'\n",
    "    code += '   move ' + str(s) + '\\n'\n",
    "    code += ')\\n'"
   ]
  },
  {
   "cell_type": "markdown",
   "metadata": {},
   "source": [
    "### Stroke Generators"
   ]
  },
  {
   "cell_type": "code",
   "execution_count": 9,
   "metadata": {},
   "outputs": [],
   "source": [
    "#Calls to PL functions to be removed, only code generation\n",
    "\n",
    "def gen_turn():\n",
    "    d = turn_direction_()\n",
    "    a = angle_()\n",
    "    turn(d, a)\n",
    "    gen_turn_code(d, a)\n",
    "    \n",
    "def gen_move():\n",
    "    s = steps_()\n",
    "    move(s)\n",
    "    gen_move_code(s)\n",
    "    \n",
    "def gen_curve():\n",
    "    n = num_repeats_()\n",
    "    d = turn_direction_()\n",
    "    a = angle_(True)\n",
    "    s = steps_(True)\n",
    "    body = []\n",
    "    body.append(TurnSegment(d, a))\n",
    "    body.append(MoveSegment(s))\n",
    "    repeat(n, body)\n",
    "    gen_curve_code(n, d, a, s)"
   ]
  },
  {
   "cell_type": "markdown",
   "metadata": {},
   "source": [
    "## Character Forming"
   ]
  },
  {
   "cell_type": "code",
   "execution_count": 10,
   "metadata": {},
   "outputs": [],
   "source": [
    "def form_character(label, num_lines, num_curves):\n",
    "    global code\n",
    "    code = ''\n",
    "    start() \n",
    "    while num_curves > 0 or num_lines > 0:\n",
    "        if next_stroke() == 'line' and num_lines > 0:\n",
    "            gen_turn()\n",
    "            gen_move()\n",
    "            num_lines -= 1\n",
    "        elif next_stroke() == 'curve' and num_curves > 0:\n",
    "            if to_turn():\n",
    "                gen_turn()\n",
    "            gen_curve()\n",
    "            num_curves -= 1\n",
    "    #save(str(label))\n",
    "    print(code)\n",
    "    end()\n",
    "\n",
    "def save(label):\n",
    "    global code\n",
    "    code_file = open(label+\".txt\", \"w\")\n",
    "    code_file.write(code)\n",
    "    code_file.close()\n",
    "    save_graphic(label)"
   ]
  },
  {
   "cell_type": "markdown",
   "metadata": {},
   "source": [
    "## Alphabet Forming"
   ]
  },
  {
   "cell_type": "code",
   "execution_count": 11,
   "metadata": {},
   "outputs": [
    {
     "name": "stdout",
     "output_type": "stream",
     "text": [
      "repeat 6 (\n",
      "   turn lt 9\n",
      "   move 13\n",
      ")\n",
      "turn lt 38\n",
      "move 36\n",
      "turn rt 126\n",
      "move 29\n",
      "repeat 12 (\n",
      "   turn rt 27\n",
      "   move 9\n",
      ")\n",
      "repeat 9 (\n",
      "   turn lt 15\n",
      "   move 6\n",
      ")\n",
      "\n"
     ]
    }
   ],
   "source": [
    "#os.system('mkdir \"Alphabet 2l 3c\"')\n",
    "#os.chdir(\"Alphabet 2l 3c\")\n",
    "#for i in range(21):\n",
    "form_character('a', 2, 3)"
   ]
  },
  {
   "cell_type": "code",
   "execution_count": null,
   "metadata": {},
   "outputs": [],
   "source": []
  }
 ],
 "metadata": {
  "kernelspec": {
   "display_name": "Python 3",
   "language": "python",
   "name": "python3"
  },
  "language_info": {
   "codemirror_mode": {
    "name": "ipython",
    "version": 3
   },
   "file_extension": ".py",
   "mimetype": "text/x-python",
   "name": "python",
   "nbconvert_exporter": "python",
   "pygments_lexer": "ipython3",
   "version": "3.6.7"
  }
 },
 "nbformat": 4,
 "nbformat_minor": 2
}
