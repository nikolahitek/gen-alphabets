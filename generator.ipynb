{
 "cells": [
  {
   "cell_type": "markdown",
   "metadata": {},
   "source": [
    "# Alphabet Generator"
   ]
  },
  {
   "cell_type": "markdown",
   "metadata": {},
   "source": [
    "## Imports"
   ]
  },
  {
   "cell_type": "code",
   "execution_count": 1,
   "metadata": {},
   "outputs": [],
   "source": [
    "from ipynb.fs.defs.environment import *\n",
    "import random\n",
    "import os\n",
    "import copy"
   ]
  },
  {
   "cell_type": "markdown",
   "metadata": {},
   "source": [
    "## Random Atrributes Generators"
   ]
  },
  {
   "cell_type": "code",
   "execution_count": 2,
   "metadata": {},
   "outputs": [],
   "source": [
    "def steps_(curve=False):\n",
    "    if curve:\n",
    "        return random.randint(5, 15)\n",
    "    return random.randint(25, 125)\n",
    "        \n",
    "def angle_(curve=False):\n",
    "    if curve:\n",
    "        return random.randint(3, 30)\n",
    "    return random.randint(30, 150)\n",
    "\n",
    "def num_repeats_():\n",
    "    return random.randint(3, 12)\n",
    "\n",
    "def turn_direction_():\n",
    "    directions = ['rt', 'lt']\n",
    "    return random.choice(directions)\n",
    "\n",
    "def next_stroke():\n",
    "    possible = ['line', 'curve']\n",
    "    return random.choice(possible)\n",
    "    \n",
    "def bool_():\n",
    "    options = [True, False]\n",
    "    return random.choice(options)\n",
    "\n",
    "def modify_percentage_():\n",
    "    return random.randint(5, 20)"
   ]
  },
  {
   "cell_type": "markdown",
   "metadata": {},
   "source": [
    "## Character Generator"
   ]
  },
  {
   "cell_type": "markdown",
   "metadata": {},
   "source": [
    "### Code And Segments Generators"
   ]
  },
  {
   "cell_type": "code",
   "execution_count": 3,
   "metadata": {},
   "outputs": [],
   "source": [
    "def gen_turn_segment(d, a, code_segments):\n",
    "    code_segments.append(TurnSegment(d, a))\n",
    "\n",
    "def gen_move_segment(s, code_segments):\n",
    "    code_segments.append(MoveSegment(s))\n",
    "    \n",
    "def gen_repeat_segment(n, d, a, s, code_segments):\n",
    "    body = [TurnSegment(d, a), MoveSegment(s)]\n",
    "    code_segments.append(RepeatSegment(n, body))\n",
    "    \n",
    "def gen_code(code_segments):\n",
    "    cs_copy = copy.deepcopy(code_segments)\n",
    "    code_str = ''\n",
    "    while len(cs_copy) > 0:\n",
    "        code_str += cs_copy.pop(0)._code()\n",
    "    return code_str"
   ]
  },
  {
   "cell_type": "markdown",
   "metadata": {},
   "source": [
    "### Stroke Generators"
   ]
  },
  {
   "cell_type": "code",
   "execution_count": 4,
   "metadata": {},
   "outputs": [],
   "source": [
    "def gen_turn(code_segments):\n",
    "    d = turn_direction_()\n",
    "    a = angle_()\n",
    "    gen_turn_segment(d, a, code_segments)\n",
    "    \n",
    "def gen_move(code_segments):\n",
    "    s = steps_()\n",
    "    gen_move_segment(s, code_segments)\n",
    "    \n",
    "def gen_curve(code_segments):\n",
    "    n = num_repeats_()\n",
    "    d = turn_direction_()\n",
    "    a = angle_(True)\n",
    "    s = steps_(True)\n",
    "    gen_repeat_segment(n, d, a, s, code_segments)"
   ]
  },
  {
   "cell_type": "markdown",
   "metadata": {},
   "source": [
    "## Character Forming"
   ]
  },
  {
   "cell_type": "code",
   "execution_count": 5,
   "metadata": {},
   "outputs": [],
   "source": [
    "def form_character(label, num_lines, num_curves):\n",
    "    code_segments = []\n",
    "    while num_curves > 0 or num_lines > 0:\n",
    "        if next_stroke() == 'line' and num_lines > 0:\n",
    "            gen_turn(code_segments)\n",
    "            gen_move(code_segments)\n",
    "            num_lines -= 1\n",
    "        elif next_stroke() == 'curve' and num_curves > 0:\n",
    "            if bool_():\n",
    "                gen_turn(code_segments)\n",
    "            gen_curve(code_segments)\n",
    "            num_curves -= 1\n",
    "    save(label, gen_code(code_segments))\n",
    "    return code_segments\n",
    "\n",
    "def save(label, code):\n",
    "    code_file = open(label+\".txt\", \"w\")\n",
    "    code_file.write(code)\n",
    "    code_file.close()\n",
    "\n",
    "def form_character_instances(n, base, char_code_segments):\n",
    "    for i in range(2, n + 2):\n",
    "        label = base + '_' + str(i)\n",
    "        cs = copy.deepcopy(char_code_segments)\n",
    "        for segment in cs:\n",
    "            segment._modify(modify_percentage_(), bool_())    \n",
    "        code = gen_code(cs)\n",
    "        save(label, code)"
   ]
  },
  {
   "cell_type": "markdown",
   "metadata": {},
   "source": [
    "## Alphabet Forming"
   ]
  },
  {
   "cell_type": "markdown",
   "metadata": {},
   "source": [
    "### Creating text files with code for each character"
   ]
  },
  {
   "cell_type": "code",
   "execution_count": 7,
   "metadata": {},
   "outputs": [],
   "source": [
    "def gen_alphabet(num_lines, num_curves, num_characters, num_char_instances, base_path):\n",
    "    alphabet_name = 'Alphabet ' + str(num_lines) + 'l ' + str(num_curves) + 'c'\n",
    "    _setup_folders(alphabet_name, base_path)\n",
    "    for i in range(1, num_characters + 1):\n",
    "        os.chdir(base_path + '/' + alphabet_name + '/Codes')\n",
    "        os.system('mkdir ' + str(i))\n",
    "        os.chdir(str(i))\n",
    "        form_character_instances(num_char_instances - 1, str(i), form_character(str(i), num_lines, num_curves))\n",
    "        \n",
    "def _setup_folders(alphabet_name, base_path):\n",
    "    os.chdir(base_path)\n",
    "    os.system('mkdir \"' + alphabet_name + '\"')\n",
    "    os.chdir(alphabet_name)\n",
    "    os.system('mkdir Codes')\n",
    "    os.chdir('Codes')"
   ]
  },
  {
   "cell_type": "markdown",
   "metadata": {},
   "source": [
    "### Call To Generate"
   ]
  },
  {
   "cell_type": "code",
   "execution_count": 8,
   "metadata": {},
   "outputs": [],
   "source": [
    "base_path = \"E:/Alphabets Project\"\n",
    "os.chdir(base_path)"
   ]
  },
  {
   "cell_type": "code",
   "execution_count": 9,
   "metadata": {},
   "outputs": [],
   "source": [
    "gen_alphabet(5, 1, 5, 5, base_path)"
   ]
  },
  {
   "cell_type": "code",
   "execution_count": null,
   "metadata": {},
   "outputs": [],
   "source": []
  }
 ],
 "metadata": {
  "kernelspec": {
   "display_name": "Python 3",
   "language": "python",
   "name": "python3"
  },
  "language_info": {
   "codemirror_mode": {
    "name": "ipython",
    "version": 3
   },
   "file_extension": ".py",
   "mimetype": "text/x-python",
   "name": "python",
   "nbconvert_exporter": "python",
   "pygments_lexer": "ipython3",
   "version": "3.6.7"
  }
 },
 "nbformat": 4,
 "nbformat_minor": 2
}
