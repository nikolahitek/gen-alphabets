{
 "cells": [
  {
   "cell_type": "markdown",
   "metadata": {},
   "source": [
    "# Interpreter"
   ]
  },
  {
   "cell_type": "markdown",
   "metadata": {},
   "source": [
    "## Imports"
   ]
  },
  {
   "cell_type": "code",
   "execution_count": 9,
   "metadata": {},
   "outputs": [],
   "source": [
    "from ipynb.fs.defs.environment import *\n",
    "import re\n",
    "from collections import namedtuple\n",
    "import os\n",
    "import glob"
   ]
  },
  {
   "cell_type": "markdown",
   "metadata": {},
   "source": [
    "## Tokenizing Code"
   ]
  },
  {
   "cell_type": "markdown",
   "metadata": {},
   "source": [
    "### Exceptions"
   ]
  },
  {
   "cell_type": "code",
   "execution_count": 10,
   "metadata": {},
   "outputs": [],
   "source": [
    "class CodeException(Exception):\n",
    "    def __init__(self, message, position):\n",
    "        super().__init__(message)\n",
    "        self.position = position"
   ]
  },
  {
   "cell_type": "markdown",
   "metadata": {},
   "source": [
    "### Token Definitions"
   ]
  },
  {
   "cell_type": "code",
   "execution_count": 3,
   "metadata": {},
   "outputs": [],
   "source": [
    "class TokenDef(namedtuple('TokenDef', ('name', 'pattern', 'value_filter'))):\n",
    "    def __repr__(self):\n",
    "        return 'TokenType.' + self.name\n",
    "    \n",
    "Token = namedtuple('Token', ('type', 'value', 'slice'))\n",
    "    \n",
    "class TokenType(object):\n",
    "    _defs = [\n",
    "        TokenDef('left_paren', '(', None),\n",
    "        TokenDef('right_paren', ')', None),\n",
    "        TokenDef('whitespace', re.compile('\\s+'), None),\n",
    "        TokenDef('integer', re.compile('[0-9]+'), int),\n",
    "        TokenDef('move', 'move', None),\n",
    "        TokenDef('turn', 'turn', None),\n",
    "        TokenDef('left', 'lt', None),\n",
    "        TokenDef('right', 'rt', None),\n",
    "        TokenDef('repeat', 'repeat', None)\n",
    "    ]\n",
    "    \n",
    "for def_ in TokenType._defs:\n",
    "    setattr(TokenType, def_.name, def_)"
   ]
  },
  {
   "cell_type": "markdown",
   "metadata": {},
   "source": [
    "### First Token In Code Extractor"
   ]
  },
  {
   "cell_type": "code",
   "execution_count": 4,
   "metadata": {},
   "outputs": [],
   "source": [
    "def first_token(code, start=0):\n",
    "    code = code[start:]\n",
    "    token = None\n",
    "    for type_ in TokenType._defs:\n",
    "        name, pattern, value_filter = type_\n",
    "        \n",
    "        if isinstance(pattern, str):\n",
    "            if not code.startswith(pattern):\n",
    "                continue\n",
    "            match_value = pattern\n",
    "        else:\n",
    "            match = pattern.match(code)\n",
    "            if not match:\n",
    "                continue\n",
    "            match_value = match.group(0)\n",
    "        \n",
    "        len_ = len(match_value)\n",
    "        \n",
    "        if value_filter is not None:\n",
    "            match_value = value_filter(match_value)\n",
    "        \n",
    "        token = Token(type_, match_value, slice(start, start + len_))\n",
    "    return token"
   ]
  },
  {
   "cell_type": "markdown",
   "metadata": {},
   "source": [
    "### Code Lexer"
   ]
  },
  {
   "cell_type": "code",
   "execution_count": 5,
   "metadata": {},
   "outputs": [],
   "source": [
    "def lex(code):\n",
    "    start = 0\n",
    "    while start < len(code):\n",
    "        token = first_token(code, start)\n",
    "        if token == None:\n",
    "            raise CodeException(\"Unexpected code at position \", start)\n",
    "        start = token.slice.stop\n",
    "        if token.type is TokenType.whitespace:\n",
    "            continue\n",
    "        yield token"
   ]
  },
  {
   "cell_type": "markdown",
   "metadata": {},
   "source": [
    "## Code Executor"
   ]
  },
  {
   "cell_type": "markdown",
   "metadata": {},
   "source": [
    "### Tokens To Executable Segment Parser"
   ]
  },
  {
   "cell_type": "code",
   "execution_count": 6,
   "metadata": {},
   "outputs": [],
   "source": [
    "class Parser:\n",
    "    \n",
    "    def _parse_move(tokens, repeat_stack, exec_queue):\n",
    "        steps_ = next(tokens)\n",
    "        if steps_.type is not TokenType.integer:\n",
    "               raise CodeException('Expected number at position ', steps_.slice.start)\n",
    "        if len(repeat_stack) == 0:\n",
    "            exec_queue.append(MoveSegment(steps_.value))\n",
    "        else:\n",
    "            repeat_segment = repeat_stack.pop()\n",
    "            repeat_segment.body.append(MoveSegment(steps_.value))\n",
    "            repeat_stack.append(repeat_segment)\n",
    "            \n",
    "    def _parse_turn(tokens, repeat_stack, exec_queue):\n",
    "        dir_ = next(tokens)\n",
    "        angle_ = next(tokens)\n",
    "        if dir_.type not in [TokenType.left, TokenType.right]:\n",
    "            raise CodeException('Expected direction at position ', dir_.slice.start)\n",
    "        if angle_.type is not TokenType.integer:\n",
    "            raise CodeException('Expected number at position ', angle_.slice.start)\n",
    "        if len(repeat_stack) == 0:\n",
    "            exec_queue.append(TurnSegment(dir_.value,angle_.value))\n",
    "        else:\n",
    "            repeat_segment = repeat_stack.pop()\n",
    "            repeat_segment.body.append(TurnSegment(dir_.value,angle_.value))\n",
    "            repeat_stack.append(repeat_segment)\n",
    "    \n",
    "    def _start_repeat(tokens, repeat_stack, exec_queue):\n",
    "        n_ = next(tokens)\n",
    "        if n_.type is not TokenType.integer:\n",
    "            raise CodeException('Expected number at position ', n_.slice.start)\n",
    "        start_ = next(tokens)\n",
    "        if start_.type is not TokenType.left_paren:\n",
    "            raise CodeException('Expected opening paren at position ', start_.slice.start)\n",
    "        repeat_stack.append(RepeatSegment(n_.value, []))\n",
    "        \n",
    "    def _end_repeat(tokens, repeat_stack, exec_queue):\n",
    "        if len(repeat_stack) == 0:\n",
    "            raise CodeException('Unexpected closing paren.', None)\n",
    "        if len(repeat_stack) == 1:\n",
    "            exec_queue.append(repeat_stack.pop())\n",
    "        else:\n",
    "            inner_repeat_stack = repeat_stack.pop()\n",
    "            outer_repeat_stack = repeat_stack.pop()\n",
    "            outer_repeat_stack.body.append(inner_repeat_stack)\n",
    "            repeat_stack.append(outer_repeat_stack)"
   ]
  },
  {
   "cell_type": "markdown",
   "metadata": {},
   "source": [
    "### Parse And Execute Code"
   ]
  },
  {
   "cell_type": "code",
   "execution_count": 7,
   "metadata": {},
   "outputs": [],
   "source": [
    "def execute(code, label, to_save = False):\n",
    "    try:\n",
    "        tokens = lex(code)\n",
    "        repeat_stack = []\n",
    "        exec_queue = []\n",
    "        start()\n",
    "\n",
    "        while True:\n",
    "            token = next(tokens)\n",
    "            if token.type is TokenType.move:\n",
    "                Parser._parse_move(tokens, repeat_stack, exec_queue)        \n",
    "            elif token.type is TokenType.turn:  \n",
    "                Parser._parse_turn(tokens, repeat_stack, exec_queue)\n",
    "            elif token.type is TokenType.repeat:\n",
    "                Parser._start_repeat(tokens, repeat_stack, exec_queue)\n",
    "            elif token.type is TokenType.right_paren:                     \n",
    "                Parser._end_repeat(tokens, repeat_stack, exec_queue)\n",
    "\n",
    "    except CodeException as e:\n",
    "        print('Code Error: ' + str(e) + str(e.position))\n",
    "\n",
    "    except StopIteration:   \n",
    "        while len(exec_queue) > 0:\n",
    "            segment = exec_queue.pop(0)\n",
    "            segment._exec()\n",
    "        if to_save:\n",
    "            save_graphic(label)\n",
    "        \n",
    "    except Exception as e:\n",
    "        print('Error: ' + str(e))\n",
    "\n",
    "    finally:\n",
    "        end()"
   ]
  },
  {
   "cell_type": "markdown",
   "metadata": {},
   "source": [
    "### Loading Code To Execute"
   ]
  },
  {
   "cell_type": "code",
   "execution_count": 8,
   "metadata": {},
   "outputs": [],
   "source": [
    "base_path = \"E:/Alphabets Project\"\n",
    "os.chdir(base_path)"
   ]
  },
  {
   "cell_type": "code",
   "execution_count": 19,
   "metadata": {},
   "outputs": [
    {
     "name": "stdout",
     "output_type": "stream",
     "text": [
      "Alphabet 0l 7c DONE\n"
     ]
    }
   ],
   "source": [
    "alphabets_folders = glob.glob('Alphabet*')\n",
    "\n",
    "for folder in alphabets_folders:\n",
    "    alphabet_path = base_path + '/' + folder\n",
    "    os.chdir(alphabet_path)\n",
    "    os.system('mkdir Images')\n",
    "    os.chdir('Codes')\n",
    "    \n",
    "    char_folders = glob.glob('*')\n",
    "    \n",
    "    for char_folder in char_folders:\n",
    "        images_folder_path = alphabet_path + '/Images'\n",
    "        os.chdir(images_folder_path)\n",
    "        os.system('mkdir ' + char_folder)\n",
    "        char_folder_path = base_path + '/' + folder + '/Codes/' + char_folder\n",
    "        os.chdir(char_folder_path)\n",
    "        \n",
    "        instances = glob.glob('*')\n",
    "        \n",
    "        for instance in instances:\n",
    "            os.chdir(char_folder_path)\n",
    "            file = open(instance, 'r')\n",
    "            code = file.read()\n",
    "            file.close()\n",
    "            os.chdir(images_folder_path + '/' + char_folder)\n",
    "            label = os.path.splitext(instance)[0]\n",
    "            execute(code, label, True)\n",
    "            \n",
    "    print(folder + ' DONE')"
   ]
  },
  {
   "cell_type": "code",
   "execution_count": null,
   "metadata": {},
   "outputs": [],
   "source": []
  },
  {
   "cell_type": "code",
   "execution_count": null,
   "metadata": {},
   "outputs": [],
   "source": []
  },
  {
   "cell_type": "code",
   "execution_count": null,
   "metadata": {},
   "outputs": [],
   "source": []
  }
 ],
 "metadata": {
  "kernelspec": {
   "display_name": "Python 3",
   "language": "python",
   "name": "python3"
  },
  "language_info": {
   "codemirror_mode": {
    "name": "ipython",
    "version": 3
   },
   "file_extension": ".py",
   "mimetype": "text/x-python",
   "name": "python",
   "nbconvert_exporter": "python",
   "pygments_lexer": "ipython3",
   "version": "3.6.7"
  }
 },
 "nbformat": 4,
 "nbformat_minor": 2
}
